{
 "cells": [
  {
   "cell_type": "markdown",
   "id": "subject-grounds",
   "metadata": {},
   "source": [
    "# Problem 017"
   ]
  },
  {
   "cell_type": "markdown",
   "id": "norman-initial",
   "metadata": {},
   "source": [
    "## Doruk Örnekci"
   ]
  },
  {
   "cell_type": "markdown",
   "id": "informational-swift",
   "metadata": {},
   "source": [
    "### 01.05.2021"
   ]
  },
  {
   "cell_type": "code",
   "execution_count": 1,
   "id": "three-russian",
   "metadata": {},
   "outputs": [],
   "source": [
    "import numpy as np\n",
    "import time"
   ]
  },
  {
   "cell_type": "code",
   "execution_count": 2,
   "id": "sized-teacher",
   "metadata": {},
   "outputs": [],
   "source": [
    "# For checking the runtime of the program\n",
    "start_time = time.time()"
   ]
  },
  {
   "cell_type": "code",
   "execution_count": 3,
   "id": "western-spouse",
   "metadata": {},
   "outputs": [],
   "source": [
    "# Strings of common numbers \n",
    "arr_1 = ['zero', 'one', 'two', 'three', 'four', 'five', 'six', 'seven', 'eight', 'nine']\n",
    "\n",
    "arr_2 = ['ten', 'eleven', 'twelve', 'thirteen', 'fourteen', 'fifteen', 'sixteen', 'seventeen', 'eighteen', 'nineteen']\n",
    "\n",
    "arr_3 = ['zero', 'ten', 'twenty', 'thirty', 'fourty', 'fifty', 'sixty', 'seventy', 'eighty', 'ninety']"
   ]
  },
  {
   "cell_type": "code",
   "execution_count": 4,
   "id": "standing-trading",
   "metadata": {},
   "outputs": [],
   "source": [
    "# Dictionary for storing number string lengths\n",
    "length_dict = {}"
   ]
  },
  {
   "cell_type": "code",
   "execution_count": 5,
   "id": "false-african",
   "metadata": {},
   "outputs": [],
   "source": [
    "# Function for computing length of one-digit numbers\n",
    "\n",
    "def one_digit(n):\n",
    "    \n",
    "    return len(arr_1[n])"
   ]
  },
  {
   "cell_type": "code",
   "execution_count": 6,
   "id": "front-trash",
   "metadata": {},
   "outputs": [],
   "source": [
    "# Function for computing length of two-digits numbers\n",
    "\n",
    "def two_digit(n):\n",
    "    \n",
    "    n_str = str(n)\n",
    "    \n",
    "    if(n_str[0] == '1'):\n",
    "        return len(arr_2[int(n_str[1])])\n",
    "    \n",
    "    else:\n",
    "        result_str = arr_3[int(n_str[0])]\n",
    "        \n",
    "        if (n_str[1] == '0'): \n",
    "            return len(result_str)\n",
    "        \n",
    "        else:\n",
    "            return len(result_str) + length_dict[int(n_str[1])]"
   ]
  },
  {
   "cell_type": "code",
   "execution_count": 7,
   "id": "worldwide-upgrade",
   "metadata": {},
   "outputs": [],
   "source": [
    "# Function for computing length of three-digits numbers\n",
    "\n",
    "def three_digit(n):\n",
    "    \n",
    "    result_str = \"\"\n",
    "    n_str = str(n)\n",
    "    \n",
    "    result_str = arr_1[int(n_str[0])] + 'hundred'\n",
    "    \n",
    "    if(n_str[1:] == '00'):\n",
    "        result = len(result_str)\n",
    "        \n",
    "    else:\n",
    "        result = len(result_str + 'and') + length_dict[int(n_str[1:])]\n",
    "        \n",
    "    return result"
   ]
  },
  {
   "cell_type": "code",
   "execution_count": 8,
   "id": "neural-fairy",
   "metadata": {},
   "outputs": [],
   "source": [
    "# Function for computing one-thousand\n",
    "\n",
    "def thousand(n):\n",
    "    \n",
    "    return 11"
   ]
  },
  {
   "cell_type": "code",
   "execution_count": 9,
   "id": "nervous-contamination",
   "metadata": {},
   "outputs": [],
   "source": [
    "# Function for computing the length of any number by combining\n",
    "# previous four functions\n",
    "\n",
    "def get_word_length(n):\n",
    "    \n",
    "    digits = len(str(n))\n",
    "    \n",
    "    if(digits == 1):\n",
    "        result = one_digit(n)\n",
    "    \n",
    "    elif(digits == 2):\n",
    "        result = two_digit(n)\n",
    "    \n",
    "    elif(digits == 3):\n",
    "        result = three_digit(n)\n",
    "    \n",
    "    else:\n",
    "        result = thousand(n)\n",
    "        \n",
    "    length_dict[n] = result\n",
    "    return result"
   ]
  },
  {
   "cell_type": "code",
   "execution_count": 10,
   "id": "permanent-notebook",
   "metadata": {},
   "outputs": [],
   "source": [
    "# Main function for solving the question\n",
    "\n",
    "def main():\n",
    "    \n",
    "    answer = np.sum([get_word_length(i) for i in range(1, 1001)])\n",
    "    \n",
    "    print(\"Answer is %d\" %(answer))\n",
    "    print(\"Finished in %.6s seconds\" % (time.time() - start_time))   "
   ]
  },
  {
   "cell_type": "code",
   "execution_count": 11,
   "id": "harmful-samoa",
   "metadata": {},
   "outputs": [
    {
     "name": "stdout",
     "output_type": "stream",
     "text": [
      "Answer is 21224\n",
      "Finished in 0.1753 seconds\n"
     ]
    }
   ],
   "source": [
    "main()"
   ]
  }
 ],
 "metadata": {
  "kernelspec": {
   "display_name": "Python 3",
   "language": "python",
   "name": "python3"
  },
  "language_info": {
   "codemirror_mode": {
    "name": "ipython",
    "version": 3
   },
   "file_extension": ".py",
   "mimetype": "text/x-python",
   "name": "python",
   "nbconvert_exporter": "python",
   "pygments_lexer": "ipython3",
   "version": "3.9.1"
  }
 },
 "nbformat": 4,
 "nbformat_minor": 5
}
