{
 "cells": [
  {
   "cell_type": "markdown",
   "id": "japanese-oracle",
   "metadata": {},
   "source": [
    "# Problem - 006"
   ]
  },
  {
   "cell_type": "markdown",
   "id": "analyzed-black",
   "metadata": {},
   "source": [
    "## Doruk Örnekci"
   ]
  },
  {
   "cell_type": "markdown",
   "id": "environmental-government",
   "metadata": {},
   "source": [
    "### 17 March 2021"
   ]
  },
  {
   "cell_type": "code",
   "execution_count": 1,
   "id": "reasonable-yesterday",
   "metadata": {},
   "outputs": [],
   "source": [
    "import numpy as np"
   ]
  },
  {
   "cell_type": "code",
   "execution_count": 2,
   "id": "other-boring",
   "metadata": {},
   "outputs": [],
   "source": [
    "N = 100"
   ]
  },
  {
   "cell_type": "code",
   "execution_count": 3,
   "id": "limiting-premiere",
   "metadata": {},
   "outputs": [],
   "source": [
    "# Square of sums\n",
    "square_of_sums = (np.sum([c for c in range(N + 1)]))**2\n",
    "\n",
    "# Sum of squares\n",
    "sum_of_squares = np.sum([c**2 for c in range(N + 1)])"
   ]
  },
  {
   "cell_type": "code",
   "execution_count": 4,
   "id": "later-organ",
   "metadata": {},
   "outputs": [
    {
     "name": "stdout",
     "output_type": "stream",
     "text": [
      "25164150\n"
     ]
    }
   ],
   "source": [
    "# Printing the difference as result\n",
    "print(square_of_sums - sum_of_squares)"
   ]
  }
 ],
 "metadata": {
  "kernelspec": {
   "display_name": "Python 3",
   "language": "python",
   "name": "python3"
  },
  "language_info": {
   "codemirror_mode": {
    "name": "ipython",
    "version": 3
   },
   "file_extension": ".py",
   "mimetype": "text/x-python",
   "name": "python",
   "nbconvert_exporter": "python",
   "pygments_lexer": "ipython3",
   "version": "3.9.1"
  }
 },
 "nbformat": 4,
 "nbformat_minor": 5
}
