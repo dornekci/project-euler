{
 "cells": [
  {
   "cell_type": "markdown",
   "id": "oriented-participation",
   "metadata": {},
   "source": [
    "# Problem 012"
   ]
  },
  {
   "cell_type": "markdown",
   "id": "experimental-fountain",
   "metadata": {},
   "source": [
    "## Doruk Örnekci\n"
   ]
  },
  {
   "cell_type": "markdown",
   "id": "fewer-security",
   "metadata": {},
   "source": [
    "### 30.04.2021"
   ]
  },
  {
   "cell_type": "code",
   "execution_count": 1,
   "id": "satisfied-jumping",
   "metadata": {},
   "outputs": [],
   "source": [
    "import numpy as np\n",
    "import time"
   ]
  },
  {
   "cell_type": "code",
   "execution_count": 2,
   "id": "quiet-bracket",
   "metadata": {},
   "outputs": [],
   "source": [
    "# For checking the runtime of the program\n",
    "start_time = time.time()"
   ]
  },
  {
   "cell_type": "code",
   "execution_count": 3,
   "id": "appreciated-advertiser",
   "metadata": {},
   "outputs": [],
   "source": [
    "# Array for storing triangle numbers\n",
    "triangle_numbers = [0, 1]"
   ]
  },
  {
   "cell_type": "code",
   "execution_count": 4,
   "id": "offshore-communist",
   "metadata": {},
   "outputs": [],
   "source": [
    "# Dictionary for factor arrays of numbers (for memoization)\n",
    "fac_dict = {1:[]}"
   ]
  },
  {
   "cell_type": "code",
   "execution_count": 5,
   "id": "upset-ensemble",
   "metadata": {},
   "outputs": [],
   "source": [
    "# Function to get the prime factors as an array\n",
    "\n",
    "# Inputs are the number and initial prime factor array,\n",
    "# which we use for recursions\n",
    "\n",
    "# If we already have the prime factors of a divisor of the main number\n",
    "# we directly get it (more efficient for time)\n",
    "\n",
    "# If we do not have the prime factor array of the current number,\n",
    "# we divide it by primes until we match with an already computed factor array\n",
    "def factor_array(arr, num):\n",
    "    \n",
    "\n",
    "    if (num in fac_dict.keys()):\n",
    "        return arr + fac_dict.get(num)\n",
    "    \n",
    "\n",
    "    for d in range(2, num + 1):\n",
    "                \n",
    "        if(num % d == 0):\n",
    "                return factor_array(arr + [d], int(num / d))          "
   ]
  },
  {
   "cell_type": "code",
   "execution_count": 6,
   "id": "leading-judges",
   "metadata": {},
   "outputs": [],
   "source": [
    "# Function to get positive divisor count from factor array\n",
    "\n",
    "# Input is the number which we want to find it's\n",
    "# divisor count\n",
    "\n",
    "# We simply count how many of a prime we got in the list and \n",
    "# store it as powers\n",
    "\n",
    "# Positive divisor count is then found by increasing the all\n",
    "# powers by 1 and then multiplying them\n",
    "def divisor_count(num):\n",
    "    \n",
    "    arr = factor_array([], num)\n",
    "    fac_dict[num] = arr\n",
    "    \n",
    "    primes = list(set(arr))\n",
    "    powers = []\n",
    "    \n",
    "    for p in primes:\n",
    "        powers.append(arr.count(p))\n",
    "        \n",
    "    return np.prod(np.add(powers, 1))"
   ]
  },
  {
   "cell_type": "code",
   "execution_count": 7,
   "id": "latin-coral",
   "metadata": {},
   "outputs": [],
   "source": [
    "# Function to create and add the next triangle number\n",
    "def new_triangle_number():\n",
    "    \n",
    "    new_index = len(triangle_numbers)\n",
    "    \n",
    "    triangle_numbers.append(triangle_numbers[new_index - 1] + new_index)\n",
    "    \n",
    "    return triangle_numbers[new_index]"
   ]
  },
  {
   "cell_type": "code",
   "execution_count": 8,
   "id": "genuine-biodiversity",
   "metadata": {},
   "outputs": [],
   "source": [
    "# Main function\n",
    "\n",
    "# Input is the desired amount of divisors to pass\n",
    "# (500 in this case)\n",
    "\n",
    "# We create new triangle numbers until we find one with \n",
    "# more than specified amount of divisors\n",
    "def main(div_aim):\n",
    "    \n",
    "    while True:\n",
    "\n",
    "        number = new_triangle_number()\n",
    "\n",
    "        if(divisor_count(number) > div_aim):\n",
    "            break\n",
    "\n",
    "    print(\"Answer is %d\" %(number))\n",
    "    print(\"Finished in %.6s seconds\" % (time.time() - start_time))"
   ]
  },
  {
   "cell_type": "code",
   "execution_count": 9,
   "id": "choice-midwest",
   "metadata": {},
   "outputs": [
    {
     "name": "stdout",
     "output_type": "stream",
     "text": [
      "Answer is 76576500\n",
      "Finished in 2.3024 seconds\n"
     ]
    }
   ],
   "source": [
    "main(500)"
   ]
  }
 ],
 "metadata": {
  "kernelspec": {
   "display_name": "Python 3",
   "language": "python",
   "name": "python3"
  },
  "language_info": {
   "codemirror_mode": {
    "name": "ipython",
    "version": 3
   },
   "file_extension": ".py",
   "mimetype": "text/x-python",
   "name": "python",
   "nbconvert_exporter": "python",
   "pygments_lexer": "ipython3",
   "version": "3.9.1"
  }
 },
 "nbformat": 4,
 "nbformat_minor": 5
}
