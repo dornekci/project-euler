{
 "cells": [
  {
   "cell_type": "markdown",
   "id": "interpreted-lincoln",
   "metadata": {},
   "source": [
    "# Problem 020"
   ]
  },
  {
   "cell_type": "markdown",
   "id": "assigned-tokyo",
   "metadata": {},
   "source": [
    "## Doruk Örnekci"
   ]
  },
  {
   "cell_type": "markdown",
   "id": "afraid-florist",
   "metadata": {},
   "source": [
    "### 03.05.2021"
   ]
  },
  {
   "cell_type": "code",
   "execution_count": 1,
   "id": "leading-conclusion",
   "metadata": {},
   "outputs": [],
   "source": [
    "import numpy as np\n",
    "import time"
   ]
  },
  {
   "cell_type": "code",
   "execution_count": 2,
   "id": "valued-printing",
   "metadata": {},
   "outputs": [],
   "source": [
    "# For checking the runtime of the program\n",
    "start_time = time.time()"
   ]
  },
  {
   "cell_type": "code",
   "execution_count": 3,
   "id": "civil-wesley",
   "metadata": {},
   "outputs": [],
   "source": [
    "# Number to calculate factorial\n",
    "n = 100\n",
    "\n",
    "# Dictionary for storing factorial values of numbers (memoization)\n",
    "fact_dict = {}"
   ]
  },
  {
   "cell_type": "code",
   "execution_count": 4,
   "id": "digital-allen",
   "metadata": {},
   "outputs": [],
   "source": [
    "# Function for calculating the factorial\n",
    "\n",
    "# Since we are storing previous factorial values, factorial of a number is \n",
    "# factorial of the previous number times the number\n",
    "\n",
    "def fact(n):\n",
    "    \n",
    "    if n == 0 or n == 1:\n",
    "        fact_dict[n] = 1\n",
    "        return 1\n",
    "    \n",
    "    if n in fact_dict:\n",
    "        return fact_dict[n]\n",
    "    \n",
    "    fact_dict[n] = fact(n - 1) * n\n",
    "    return fact_dict[n]"
   ]
  },
  {
   "cell_type": "code",
   "execution_count": 5,
   "id": "exempt-fellow",
   "metadata": {},
   "outputs": [],
   "source": [
    "# Function for summing the digits\n",
    "\n",
    "# First converting the number to string and summing the chars in char array\n",
    "# as integers\n",
    "\n",
    "def sum_digits(n):\n",
    "    \n",
    "    n_str = str(n)\n",
    "    \n",
    "    return np.sum([int(n_str[i]) for i in range(len(n_str))])"
   ]
  },
  {
   "cell_type": "code",
   "execution_count": 6,
   "id": "ecological-settlement",
   "metadata": {},
   "outputs": [],
   "source": [
    "# Main function for getting the answer\n",
    "\n",
    "def main(n):\n",
    "    \n",
    "    answer = sum_digits(fact(n))\n",
    "    \n",
    "    print(\"Answer is %d\" % (answer))\n",
    "    print(\"Finished in %.6s seconds\" % (time.time() - start_time))     "
   ]
  },
  {
   "cell_type": "code",
   "execution_count": 7,
   "id": "valued-tenant",
   "metadata": {},
   "outputs": [
    {
     "name": "stdout",
     "output_type": "stream",
     "text": [
      "Answer is 648\n",
      "Finished in 0.0995 seconds\n"
     ]
    }
   ],
   "source": [
    "main(n)"
   ]
  }
 ],
 "metadata": {
  "kernelspec": {
   "display_name": "Python 3",
   "language": "python",
   "name": "python3"
  },
  "language_info": {
   "codemirror_mode": {
    "name": "ipython",
    "version": 3
   },
   "file_extension": ".py",
   "mimetype": "text/x-python",
   "name": "python",
   "nbconvert_exporter": "python",
   "pygments_lexer": "ipython3",
   "version": "3.9.1"
  }
 },
 "nbformat": 4,
 "nbformat_minor": 5
}
