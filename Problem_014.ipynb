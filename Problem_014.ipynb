{
 "cells": [
  {
   "cell_type": "markdown",
   "id": "coordinate-figure",
   "metadata": {},
   "source": [
    "# Problem 014"
   ]
  },
  {
   "cell_type": "markdown",
   "id": "technological-stand",
   "metadata": {},
   "source": [
    "## Doruk Örnekci"
   ]
  },
  {
   "cell_type": "markdown",
   "id": "electrical-watershed",
   "metadata": {},
   "source": [
    "### 30.04.2021"
   ]
  },
  {
   "cell_type": "code",
   "execution_count": 1,
   "id": "floral-masters",
   "metadata": {},
   "outputs": [],
   "source": [
    "import time"
   ]
  },
  {
   "cell_type": "code",
   "execution_count": 2,
   "id": "hydraulic-representative",
   "metadata": {},
   "outputs": [],
   "source": [
    "# For checking the runtime of the program\n",
    "start_time = time.time()"
   ]
  },
  {
   "cell_type": "code",
   "execution_count": 3,
   "id": "protective-solution",
   "metadata": {},
   "outputs": [],
   "source": [
    "# Dictionary to store the length of the chain from specified numbers\n",
    "\n",
    "# As we store the reachable length after these numbers, we do not need\n",
    "# to calculate after reaching these numbers, just sum\n",
    "\n",
    "chain_length_dict = {}"
   ]
  },
  {
   "cell_type": "code",
   "execution_count": 4,
   "id": "secret-nature",
   "metadata": {},
   "outputs": [],
   "source": [
    "# Function to get the chain length from given number\n",
    "\n",
    "# Inputs are the initial length (= 1) and the starting number\n",
    "\n",
    "# Since it is a recursive function, \"current_length\" is always\n",
    "# increased and put into function again\n",
    "\n",
    "# If we come across already known chain length from a number,\n",
    "# we simply sum it with our \"current_length\"\n",
    "\n",
    "# If we cannot come across any already known chain length from\n",
    "# a number, we calculate the chain length by going with rules\n",
    "# until we come across 1\n",
    "\n",
    "def chain_length(current_length, num):\n",
    "    \n",
    "    if num == 1:\n",
    "        return current_length\n",
    "    \n",
    "    else:\n",
    "        if (num in chain_length_dict.keys()):\n",
    "            return current_length + chain_length_dict.get(num)\n",
    "    \n",
    "        if (num % 2 == 0):\n",
    "            return chain_length(current_length + 1, int(num / 2))\n",
    "    \n",
    "        else:\n",
    "            return chain_length(current_length + 1, int(3 * num + 1))"
   ]
  },
  {
   "cell_type": "code",
   "execution_count": 5,
   "id": "ultimate-blade",
   "metadata": {},
   "outputs": [],
   "source": [
    "# Function to find maximum chain length under a specified limit\n",
    "# (limit is 1000000 in this case)\n",
    "\n",
    "# For every number, calculating the chain length and putting it\n",
    "# to our chain length dictionary\n",
    "\n",
    "# If chain length is bigger than maximum chain length that we found\n",
    "# until now, changing the maximum to current chain length value\n",
    "\n",
    "def longest_chain(maximum):\n",
    "    \n",
    "    number = 1\n",
    "    max_chain_length = 0\n",
    "    max_chain_number = 0\n",
    "    \n",
    "    while number < maximum:\n",
    "        \n",
    "        chain_len = chain_length(1, number)\n",
    "        chain_length_dict[number] = chain_len - 1\n",
    "        \n",
    "        if (chain_len > max_chain_length):\n",
    "            max_chain_number = number\n",
    "            max_chain_length = chain_len\n",
    "            \n",
    "        number += 1\n",
    "            \n",
    "    return max_chain_number"
   ]
  },
  {
   "cell_type": "code",
   "execution_count": 6,
   "id": "hazardous-reputation",
   "metadata": {},
   "outputs": [],
   "source": [
    "# Main function\n",
    "\n",
    "# Input is the maximum limit of numbers to start \n",
    "# the chain from\n",
    "\n",
    "def main(limit):\n",
    "    \n",
    "    answer = longest_chain(limit)\n",
    "    \n",
    "    print(\"Answer is %d\" %(answer))\n",
    "    print(\"Finished in %.6s seconds\" % (time.time() - start_time))"
   ]
  },
  {
   "cell_type": "code",
   "execution_count": 7,
   "id": "broad-toner",
   "metadata": {},
   "outputs": [
    {
     "name": "stdout",
     "output_type": "stream",
     "text": [
      "Answer is 837799\n",
      "Finished in 2.6711 seconds\n"
     ]
    }
   ],
   "source": [
    "main(1000000)"
   ]
  }
 ],
 "metadata": {
  "kernelspec": {
   "display_name": "Python 3",
   "language": "python",
   "name": "python3"
  },
  "language_info": {
   "codemirror_mode": {
    "name": "ipython",
    "version": 3
   },
   "file_extension": ".py",
   "mimetype": "text/x-python",
   "name": "python",
   "nbconvert_exporter": "python",
   "pygments_lexer": "ipython3",
   "version": "3.9.1"
  }
 },
 "nbformat": 4,
 "nbformat_minor": 5
}
