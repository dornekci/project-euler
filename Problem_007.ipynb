{
 "cells": [
  {
   "cell_type": "markdown",
   "id": "interested-destiny",
   "metadata": {},
   "source": [
    "# Problem - 007"
   ]
  },
  {
   "cell_type": "markdown",
   "id": "accompanied-writer",
   "metadata": {},
   "source": [
    "## Doruk Örnekci"
   ]
  },
  {
   "cell_type": "markdown",
   "id": "funny-cooperative",
   "metadata": {},
   "source": [
    "### 17 March 2021"
   ]
  },
  {
   "cell_type": "code",
   "execution_count": 1,
   "id": "biblical-manual",
   "metadata": {},
   "outputs": [],
   "source": [
    "import sympy as sp"
   ]
  },
  {
   "cell_type": "code",
   "execution_count": 2,
   "id": "extended-laugh",
   "metadata": {},
   "outputs": [],
   "source": [
    "N = 10001\n",
    "prime = 2"
   ]
  },
  {
   "cell_type": "code",
   "execution_count": 3,
   "id": "consecutive-thailand",
   "metadata": {},
   "outputs": [
    {
     "name": "stdout",
     "output_type": "stream",
     "text": [
      "104743\n"
     ]
    }
   ],
   "source": [
    "# Just going through primes until N'th prime\n",
    "for i in range(N - 1):\n",
    "    prime = sp.nextprime(prime)\n",
    "\n",
    "print(prime)"
   ]
  }
 ],
 "metadata": {
  "kernelspec": {
   "display_name": "Python 3",
   "language": "python",
   "name": "python3"
  },
  "language_info": {
   "codemirror_mode": {
    "name": "ipython",
    "version": 3
   },
   "file_extension": ".py",
   "mimetype": "text/x-python",
   "name": "python",
   "nbconvert_exporter": "python",
   "pygments_lexer": "ipython3",
   "version": "3.9.1"
  }
 },
 "nbformat": 4,
 "nbformat_minor": 5
}
