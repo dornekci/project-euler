{
 "cells": [
  {
   "cell_type": "markdown",
   "id": "normal-union",
   "metadata": {},
   "source": [
    "# Problem - 010"
   ]
  },
  {
   "cell_type": "markdown",
   "id": "romance-madonna",
   "metadata": {},
   "source": [
    "## Doruk Örnekci"
   ]
  },
  {
   "cell_type": "markdown",
   "id": "ruled-unknown",
   "metadata": {},
   "source": [
    "### 19 March 2021"
   ]
  },
  {
   "cell_type": "code",
   "execution_count": 1,
   "id": "level-appointment",
   "metadata": {},
   "outputs": [],
   "source": [
    "import numpy as np\n",
    "import sympy as sp"
   ]
  },
  {
   "cell_type": "code",
   "execution_count": 6,
   "id": "hydraulic-integrity",
   "metadata": {},
   "outputs": [],
   "source": [
    "N = 2000000"
   ]
  },
  {
   "cell_type": "code",
   "execution_count": 21,
   "id": "settled-scholarship",
   "metadata": {},
   "outputs": [
    {
     "name": "stdout",
     "output_type": "stream",
     "text": [
      "142913828922\n"
     ]
    }
   ],
   "source": [
    "# Summation of all primes below N\n",
    "# Since sum is too large for 32-bit, we needed to make it 64-bit\n",
    "print(np.sum(list(sp.sieve.primerange(0, N)), dtype = np.int64))"
   ]
  },
  {
   "cell_type": "code",
   "execution_count": null,
   "id": "large-swimming",
   "metadata": {},
   "outputs": [],
   "source": []
  }
 ],
 "metadata": {
  "kernelspec": {
   "display_name": "Python 3",
   "language": "python",
   "name": "python3"
  },
  "language_info": {
   "codemirror_mode": {
    "name": "ipython",
    "version": 3
   },
   "file_extension": ".py",
   "mimetype": "text/x-python",
   "name": "python",
   "nbconvert_exporter": "python",
   "pygments_lexer": "ipython3",
   "version": "3.9.1"
  }
 },
 "nbformat": 4,
 "nbformat_minor": 5
}
