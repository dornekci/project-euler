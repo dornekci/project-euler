{
 "cells": [
  {
   "cell_type": "markdown",
   "id": "spread-karaoke",
   "metadata": {},
   "source": [
    "# Problem 016"
   ]
  },
  {
   "cell_type": "markdown",
   "id": "married-warehouse",
   "metadata": {},
   "source": [
    "## Doruk Örnekci"
   ]
  },
  {
   "cell_type": "markdown",
   "id": "diagnostic-classic",
   "metadata": {},
   "source": [
    "### 30.04.2021"
   ]
  },
  {
   "cell_type": "code",
   "execution_count": 1,
   "id": "cardiac-spine",
   "metadata": {},
   "outputs": [],
   "source": [
    "import time"
   ]
  },
  {
   "cell_type": "code",
   "execution_count": 2,
   "id": "elect-injury",
   "metadata": {},
   "outputs": [],
   "source": [
    "# For checking the runtime of the program\n",
    "start_time = time.time()"
   ]
  },
  {
   "cell_type": "code",
   "execution_count": 3,
   "id": "through-hudson",
   "metadata": {},
   "outputs": [],
   "source": [
    "number = 2 ** 1000"
   ]
  },
  {
   "cell_type": "code",
   "execution_count": 4,
   "id": "declared-convention",
   "metadata": {},
   "outputs": [],
   "source": [
    "# Function for summing the digits of a number\n",
    "\n",
    "# We get digits by converting the whole number to string first then summing\n",
    "# every char as integer with the main sum\n",
    "\n",
    "def sum_digits(num):\n",
    "    \n",
    "    num_str = str(num)\n",
    "    \n",
    "    digit_sum = 0\n",
    "    for d in num_str:\n",
    "        digit_sum += int(d)\n",
    "        \n",
    "    return digit_sum"
   ]
  },
  {
   "cell_type": "code",
   "execution_count": 5,
   "id": "polyphonic-practitioner",
   "metadata": {},
   "outputs": [],
   "source": [
    "# Main function for solving the question\n",
    "\n",
    "def main(num):\n",
    "    \n",
    "    answer = sum_digits(num)\n",
    "    \n",
    "    print(\"Answer is %d\" %(answer))\n",
    "    print(\"Finished in %.6s seconds\" % (time.time() - start_time))   "
   ]
  },
  {
   "cell_type": "code",
   "execution_count": 6,
   "id": "adaptive-insulin",
   "metadata": {},
   "outputs": [
    {
     "name": "stdout",
     "output_type": "stream",
     "text": [
      "Answer is 1366\n",
      "Finished in 0.0821 seconds\n"
     ]
    }
   ],
   "source": [
    "main(number)"
   ]
  }
 ],
 "metadata": {
  "kernelspec": {
   "display_name": "Python 3",
   "language": "python",
   "name": "python3"
  },
  "language_info": {
   "codemirror_mode": {
    "name": "ipython",
    "version": 3
   },
   "file_extension": ".py",
   "mimetype": "text/x-python",
   "name": "python",
   "nbconvert_exporter": "python",
   "pygments_lexer": "ipython3",
   "version": "3.9.1"
  }
 },
 "nbformat": 4,
 "nbformat_minor": 5
}
