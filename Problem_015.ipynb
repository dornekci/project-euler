{
 "cells": [
  {
   "cell_type": "markdown",
   "id": "instructional-registration",
   "metadata": {},
   "source": [
    "# Problem 015"
   ]
  },
  {
   "cell_type": "markdown",
   "id": "liable-disposition",
   "metadata": {},
   "source": [
    "## Doruk Örnekci"
   ]
  },
  {
   "cell_type": "markdown",
   "id": "disciplinary-brick",
   "metadata": {},
   "source": [
    "### 30.04.2021"
   ]
  },
  {
   "cell_type": "code",
   "execution_count": 1,
   "id": "prostate-desperate",
   "metadata": {},
   "outputs": [],
   "source": [
    "import math\n",
    "import time"
   ]
  },
  {
   "cell_type": "code",
   "execution_count": 2,
   "id": "parental-sapphire",
   "metadata": {},
   "outputs": [],
   "source": [
    "# For checking the runtime of the program\n",
    "start_time = time.time()"
   ]
  },
  {
   "cell_type": "code",
   "execution_count": 3,
   "id": "confirmed-runner",
   "metadata": {},
   "outputs": [],
   "source": [
    "grid = (20, 20)"
   ]
  },
  {
   "cell_type": "code",
   "execution_count": 4,
   "id": "hungarian-wedding",
   "metadata": {},
   "outputs": [],
   "source": [
    "# Function for calculating number of possible routes\n",
    "\n",
    "# We need to select 20 right moves and 20 down moves with diffrent orders and\n",
    "# this combination count can be found by (20 + 20)!/(20! * 20!)\n",
    "def main(grid):\n",
    "    \n",
    "    answer = math.factorial(grid[0] + grid[1])/(math.factorial(grid[0]) * math.factorial(grid[1]))\n",
    "    \n",
    "    print(\"Answer is %d\" % (answer))\n",
    "    print(\"Finished in %.6s seconds\" % (time.time() - start_time))     "
   ]
  },
  {
   "cell_type": "code",
   "execution_count": 5,
   "id": "seeing-tonight",
   "metadata": {},
   "outputs": [
    {
     "name": "stdout",
     "output_type": "stream",
     "text": [
      "Answer is 137846528820\n",
      "Finished in 0.0638 seconds\n"
     ]
    }
   ],
   "source": [
    "main(grid)"
   ]
  }
 ],
 "metadata": {
  "kernelspec": {
   "display_name": "Python 3",
   "language": "python",
   "name": "python3"
  },
  "language_info": {
   "codemirror_mode": {
    "name": "ipython",
    "version": 3
   },
   "file_extension": ".py",
   "mimetype": "text/x-python",
   "name": "python",
   "nbconvert_exporter": "python",
   "pygments_lexer": "ipython3",
   "version": "3.9.1"
  }
 },
 "nbformat": 4,
 "nbformat_minor": 5
}
