{
 "cells": [
  {
   "cell_type": "markdown",
   "id": "beginning-organizer",
   "metadata": {},
   "source": [
    "# Problem - 001"
   ]
  },
  {
   "cell_type": "markdown",
   "id": "discrete-renewal",
   "metadata": {},
   "source": [
    "## Doruk Örnekci"
   ]
  },
  {
   "cell_type": "markdown",
   "id": "cleared-housing",
   "metadata": {},
   "source": [
    "### 16 March 2021"
   ]
  },
  {
   "cell_type": "code",
   "execution_count": 7,
   "id": "academic-borough",
   "metadata": {},
   "outputs": [],
   "source": [
    "import numpy as np"
   ]
  },
  {
   "cell_type": "code",
   "execution_count": 6,
   "id": "macro-mistake",
   "metadata": {},
   "outputs": [],
   "source": [
    "N = 1000"
   ]
  },
  {
   "cell_type": "code",
   "execution_count": 36,
   "id": "crude-winner",
   "metadata": {},
   "outputs": [],
   "source": [
    "# All numbers until \"N\" in an array\n",
    "num_list = np.array(range(1, N))\n",
    "\n",
    "# Numbers divisible by 3\n",
    "div_3_list = [num for num in num_list if (num % 3 == 0)]\n",
    "\n",
    "# Numbers divisible by 5\n",
    "div_5_list = [num for num in num_list if (num % 5 == 0)]\n",
    "\n",
    "# Concatenating the two lists (but with duplicates)\n",
    "div_list = np.concatenate((div_3_list, div_5_list))\n",
    "\n",
    "# Removing duplicates from the list\n",
    "div_list_u = np.unique(div_list)"
   ]
  },
  {
   "cell_type": "code",
   "execution_count": 38,
   "id": "significant-arrow",
   "metadata": {},
   "outputs": [
    {
     "name": "stdout",
     "output_type": "stream",
     "text": [
      "233168\n"
     ]
    }
   ],
   "source": [
    "# Summing all numbers in unique divisor list\n",
    "sum = np.sum(div_list_u)\n",
    "\n",
    "# Printing the result\n",
    "print(sum)"
   ]
  }
 ],
 "metadata": {
  "kernelspec": {
   "display_name": "Python 3",
   "language": "python",
   "name": "python3"
  },
  "language_info": {
   "codemirror_mode": {
    "name": "ipython",
    "version": 3
   },
   "file_extension": ".py",
   "mimetype": "text/x-python",
   "name": "python",
   "nbconvert_exporter": "python",
   "pygments_lexer": "ipython3",
   "version": "3.9.1"
  }
 },
 "nbformat": 4,
 "nbformat_minor": 5
}
