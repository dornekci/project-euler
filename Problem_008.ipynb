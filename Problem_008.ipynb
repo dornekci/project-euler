{
 "cells": [
  {
   "cell_type": "markdown",
   "id": "middle-insurance",
   "metadata": {},
   "source": [
    "# Problem - 008"
   ]
  },
  {
   "cell_type": "markdown",
   "id": "mobile-placement",
   "metadata": {},
   "source": [
    "## Doruk Örnekci"
   ]
  },
  {
   "cell_type": "markdown",
   "id": "adjustable-frank",
   "metadata": {},
   "source": [
    "### 19 March 2021"
   ]
  },
  {
   "cell_type": "code",
   "execution_count": 1,
   "id": "cosmetic-praise",
   "metadata": {},
   "outputs": [],
   "source": [
    "import numpy as np"
   ]
  },
  {
   "cell_type": "code",
   "execution_count": 2,
   "id": "eastern-donor",
   "metadata": {},
   "outputs": [],
   "source": [
    "N = \"\"\"73167176531330624919225119674426574742355349194934\n",
    "96983520312774506326239578318016984801869478851843\n",
    "85861560789112949495459501737958331952853208805511\n",
    "12540698747158523863050715693290963295227443043557\n",
    "66896648950445244523161731856403098711121722383113\n",
    "62229893423380308135336276614282806444486645238749\n",
    "30358907296290491560440772390713810515859307960866\n",
    "70172427121883998797908792274921901699720888093776\n",
    "65727333001053367881220235421809751254540594752243\n",
    "52584907711670556013604839586446706324415722155397\n",
    "53697817977846174064955149290862569321978468622482\n",
    "83972241375657056057490261407972968652414535100474\n",
    "82166370484403199890008895243450658541227588666881\n",
    "16427171479924442928230863465674813919123162824586\n",
    "17866458359124566529476545682848912883142607690042\n",
    "24219022671055626321111109370544217506941658960408\n",
    "07198403850962455444362981230987879927244284909188\n",
    "84580156166097919133875499200524063689912560717606\n",
    "05886116467109405077541002256983155200055935729725\n",
    "71636269561882670428252483600823257530420752963450\"\"\"\n",
    "\n",
    "adj = 13"
   ]
  },
  {
   "cell_type": "code",
   "execution_count": 3,
   "id": "written-contamination",
   "metadata": {},
   "outputs": [],
   "source": [
    "# Putting the string elements to array as integers\n",
    "N = N.replace(\" \", \"\").replace(\"\\n\", \"\")\n",
    "num_array = [int(n) for n in N]"
   ]
  },
  {
   "cell_type": "code",
   "execution_count": 5,
   "id": "micro-clause",
   "metadata": {},
   "outputs": [
    {
     "name": "stdout",
     "output_type": "stream",
     "text": [
      "2091059712\n"
     ]
    }
   ],
   "source": [
    "# Getting the products of all \"adj\" elements\n",
    "product_list = np.array([np.prod(num_array[i:i + adj]) for i in range(len(num_array))], dtype = 'int64')\n",
    "\n",
    "# Printing the maximum of them\n",
    "print(np.max(product_list))"
   ]
  },
  {
   "cell_type": "code",
   "execution_count": null,
   "id": "starting-telephone",
   "metadata": {},
   "outputs": [],
   "source": []
  }
 ],
 "metadata": {
  "kernelspec": {
   "display_name": "Python 3",
   "language": "python",
   "name": "python3"
  },
  "language_info": {
   "codemirror_mode": {
    "name": "ipython",
    "version": 3
   },
   "file_extension": ".py",
   "mimetype": "text/x-python",
   "name": "python",
   "nbconvert_exporter": "python",
   "pygments_lexer": "ipython3",
   "version": "3.9.1"
  }
 },
 "nbformat": 4,
 "nbformat_minor": 5
}
