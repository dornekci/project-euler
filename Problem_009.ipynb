{
 "cells": [
  {
   "cell_type": "markdown",
   "id": "continuing-shaft",
   "metadata": {},
   "source": [
    "# Problem - 009"
   ]
  },
  {
   "cell_type": "markdown",
   "id": "unusual-renaissance",
   "metadata": {},
   "source": [
    "## Doruk Örnekci"
   ]
  },
  {
   "cell_type": "markdown",
   "id": "nonprofit-tomato",
   "metadata": {},
   "source": [
    "### 19 March 2021"
   ]
  },
  {
   "cell_type": "code",
   "execution_count": 1,
   "id": "smart-globe",
   "metadata": {},
   "outputs": [],
   "source": [
    "import numpy as np"
   ]
  },
  {
   "cell_type": "code",
   "execution_count": 9,
   "id": "taken-remedy",
   "metadata": {},
   "outputs": [],
   "source": [
    "N = 1000"
   ]
  },
  {
   "cell_type": "code",
   "execution_count": 13,
   "id": "unnecessary-batch",
   "metadata": {},
   "outputs": [
    {
     "name": "stdout",
     "output_type": "stream",
     "text": [
      "0\n",
      "31875000\n",
      "31875000\n",
      "0\n"
     ]
    }
   ],
   "source": [
    "# Parsing through a and b and finding appropriate numbers\n",
    "for a in range(N + 1):\n",
    "    for b in range(N - a +1):\n",
    "        c = np.sqrt(a**2 + b**2)\n",
    "        if(a + b + c == 1000):\n",
    "            print(int(a*b*c))"
   ]
  },
  {
   "cell_type": "code",
   "execution_count": null,
   "id": "surrounded-pavilion",
   "metadata": {},
   "outputs": [],
   "source": []
  }
 ],
 "metadata": {
  "kernelspec": {
   "display_name": "Python 3",
   "language": "python",
   "name": "python3"
  },
  "language_info": {
   "codemirror_mode": {
    "name": "ipython",
    "version": 3
   },
   "file_extension": ".py",
   "mimetype": "text/x-python",
   "name": "python",
   "nbconvert_exporter": "python",
   "pygments_lexer": "ipython3",
   "version": "3.9.1"
  }
 },
 "nbformat": 4,
 "nbformat_minor": 5
}
