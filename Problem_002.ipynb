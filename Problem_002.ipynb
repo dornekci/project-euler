{
 "cells": [
  {
   "cell_type": "markdown",
   "id": "raised-object",
   "metadata": {},
   "source": [
    "# Problem - 002"
   ]
  },
  {
   "cell_type": "markdown",
   "id": "governing-malpractice",
   "metadata": {},
   "source": [
    "## Doruk Örneci"
   ]
  },
  {
   "cell_type": "markdown",
   "id": "naked-klein",
   "metadata": {},
   "source": [
    "### 17 March 2021"
   ]
  },
  {
   "cell_type": "code",
   "execution_count": 1,
   "id": "medieval-munich",
   "metadata": {},
   "outputs": [],
   "source": [
    "import numpy as np"
   ]
  },
  {
   "cell_type": "code",
   "execution_count": 2,
   "id": "broke-winter",
   "metadata": {},
   "outputs": [],
   "source": [
    "# Function to create a fibonacci sequence until max value \"N\"\n",
    "def create_fibonacci(main, N):\n",
    "    \n",
    "    # If last element is larger than max value, finish creating and return\n",
    "    # Removing the last elements since it is larger than N\n",
    "    if main[len(main) - 1] > N :\n",
    "        \n",
    "        main.remove(main[len(main) - 1])\n",
    "        return main\n",
    "    \n",
    "    # Else, appending the sum of last two elements as new element to list \n",
    "    # and running the recursive function again\n",
    "    else :\n",
    "\n",
    "        main.append(main[len(main) - 2] + main[len(main) - 1])\n",
    "        return create_fibonacci(main, N)"
   ]
  },
  {
   "cell_type": "code",
   "execution_count": 3,
   "id": "fleet-studio",
   "metadata": {},
   "outputs": [],
   "source": [
    "# Main array to build fibonacci sequence on\n",
    "main_fib = [1, 2]\n",
    "\n",
    "# Max value for fibonacci array\n",
    "N = 4000000"
   ]
  },
  {
   "cell_type": "code",
   "execution_count": 4,
   "id": "obvious-portrait",
   "metadata": {},
   "outputs": [],
   "source": [
    "# Creating the fibonacci sequence until \"N\"\n",
    "fib_list = create_fibonacci(main_fib, N)\n",
    "\n",
    "# Getting only the even numbers in the fibonacci sequence\n",
    "even_list = [num for num in fib_list if (num % 2 == 0)]"
   ]
  },
  {
   "cell_type": "code",
   "execution_count": 5,
   "id": "amino-worthy",
   "metadata": {},
   "outputs": [
    {
     "name": "stdout",
     "output_type": "stream",
     "text": [
      "4613732\n"
     ]
    }
   ],
   "source": [
    "# Summing the even numbers\n",
    "sum_even = np.sum([even_list])\n",
    "\n",
    "# Printing the result\n",
    "print(sum_even)"
   ]
  }
 ],
 "metadata": {
  "kernelspec": {
   "display_name": "Python 3",
   "language": "python",
   "name": "python3"
  },
  "language_info": {
   "codemirror_mode": {
    "name": "ipython",
    "version": 3
   },
   "file_extension": ".py",
   "mimetype": "text/x-python",
   "name": "python",
   "nbconvert_exporter": "python",
   "pygments_lexer": "ipython3",
   "version": "3.9.1"
  }
 },
 "nbformat": 4,
 "nbformat_minor": 5
}
