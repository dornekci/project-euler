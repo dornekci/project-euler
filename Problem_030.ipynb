{
 "cells": [
  {
   "cell_type": "markdown",
   "metadata": {},
   "source": [
    "# Problem 030"
   ]
  },
  {
   "cell_type": "markdown",
   "metadata": {},
   "source": [
    "## Doruk Örnekci"
   ]
  },
  {
   "cell_type": "markdown",
   "metadata": {},
   "source": [
    "## 01.11.2021"
   ]
  },
  {
   "cell_type": "code",
   "execution_count": 1,
   "metadata": {},
   "outputs": [],
   "source": [
    "import time"
   ]
  },
  {
   "cell_type": "code",
   "execution_count": 2,
   "metadata": {},
   "outputs": [],
   "source": [
    "# For checking the runtime of the program\n",
    "start_time = time.time()"
   ]
  },
  {
   "cell_type": "code",
   "execution_count": 3,
   "metadata": {},
   "outputs": [],
   "source": [
    "# Maximum number that can be achieved through this method\n",
    "max_fifth_power_sum = (9 ** 5) * 6"
   ]
  },
  {
   "cell_type": "code",
   "execution_count": 4,
   "metadata": {},
   "outputs": [],
   "source": [
    "# Function for summing the fifth powers of digits of a number\n",
    "def sum_of_fifth_powers(num):\n",
    "    \n",
    "    sum = 0\n",
    "    for digit in str(num):\n",
    "        \n",
    "        sum += int(digit) ** 5\n",
    "        \n",
    "    return sum"
   ]
  },
  {
   "cell_type": "code",
   "execution_count": 5,
   "metadata": {},
   "outputs": [],
   "source": [
    "# Main function for finding sum of all the numbers \n",
    "# that can be written as the sum of fifth powers of their digits\n",
    "def main():\n",
    "    \n",
    "    sum = 0\n",
    "    for i in range(max_fifth_power_sum):\n",
    "\n",
    "        if sum_of_fifth_powers(i) == i:\n",
    "            \n",
    "            if i != 1: \n",
    "                sum += i\n",
    "            \n",
    "    print(\"Answer is %d\" %(sum))\n",
    "    print(\"Finished in %.6s seconds\" % (time.time() - start_time))"
   ]
  },
  {
   "cell_type": "code",
   "execution_count": 6,
   "metadata": {},
   "outputs": [
    {
     "name": "stdout",
     "output_type": "stream",
     "text": [
      "Answer is 443839\n",
      "Finished in 1.2404 seconds\n"
     ]
    }
   ],
   "source": [
    "main()"
   ]
  }
 ],
 "metadata": {
  "kernelspec": {
   "display_name": "Python 3",
   "language": "python",
   "name": "python3"
  },
  "language_info": {
   "codemirror_mode": {
    "name": "ipython",
    "version": 3
   },
   "file_extension": ".py",
   "mimetype": "text/x-python",
   "name": "python",
   "nbconvert_exporter": "python",
   "pygments_lexer": "ipython3",
   "version": "3.6.5"
  }
 },
 "nbformat": 4,
 "nbformat_minor": 2
}
