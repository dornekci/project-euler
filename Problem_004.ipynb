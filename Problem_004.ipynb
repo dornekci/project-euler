{
 "cells": [
  {
   "cell_type": "markdown",
   "id": "funky-aging",
   "metadata": {},
   "source": [
    "# Problem - 004"
   ]
  },
  {
   "cell_type": "markdown",
   "id": "coupled-bradley",
   "metadata": {},
   "source": [
    "## Doruk Örnekci"
   ]
  },
  {
   "cell_type": "markdown",
   "id": "amateur-owner",
   "metadata": {},
   "source": [
    "### 17 March 2021"
   ]
  },
  {
   "cell_type": "code",
   "execution_count": 1,
   "id": "living-flesh",
   "metadata": {},
   "outputs": [],
   "source": [
    "import numpy as np"
   ]
  },
  {
   "cell_type": "code",
   "execution_count": 2,
   "id": "filled-grace",
   "metadata": {},
   "outputs": [],
   "source": [
    "N = 1000"
   ]
  },
  {
   "cell_type": "code",
   "execution_count": 3,
   "id": "junior-sport",
   "metadata": {},
   "outputs": [],
   "source": [
    "# Generating the number between specified values\n",
    "number_list = list(range(100, N))\n",
    "\n",
    "# Multiplying all numbers with each other and\n",
    "# put them into a matrix\n",
    "mult_matrix = np.outer(np.transpose(number_list), number_list)\n",
    "\n",
    "# Making the matrix a list\n",
    "mult_list = mult_matrix.flatten()\n",
    "\n",
    "# Sorting the list \n",
    "mult_list.sort()\n",
    "\n",
    "# Reversing the list so it is\n",
    "reverse_list = np.flipud(mult_list)"
   ]
  },
  {
   "cell_type": "code",
   "execution_count": 4,
   "id": "statistical-covering",
   "metadata": {},
   "outputs": [
    {
     "name": "stdout",
     "output_type": "stream",
     "text": [
      "906609\n"
     ]
    }
   ],
   "source": [
    "# Finding the largest palindrome number and printing it\n",
    "for num in reverse_list:\n",
    "    \n",
    "    if num == int(str(num)[::-1]):\n",
    "        print(num)\n",
    "        break"
   ]
  }
 ],
 "metadata": {
  "kernelspec": {
   "display_name": "Python 3",
   "language": "python",
   "name": "python3"
  },
  "language_info": {
   "codemirror_mode": {
    "name": "ipython",
    "version": 3
   },
   "file_extension": ".py",
   "mimetype": "text/x-python",
   "name": "python",
   "nbconvert_exporter": "python",
   "pygments_lexer": "ipython3",
   "version": "3.9.1"
  }
 },
 "nbformat": 4,
 "nbformat_minor": 5
}
