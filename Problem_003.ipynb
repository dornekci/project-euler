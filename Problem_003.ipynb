{
 "cells": [
  {
   "cell_type": "markdown",
   "id": "mobile-glory",
   "metadata": {},
   "source": [
    "# Problem - 003"
   ]
  },
  {
   "cell_type": "markdown",
   "id": "threaded-selling",
   "metadata": {},
   "source": [
    "## Doruk Örnekci"
   ]
  },
  {
   "cell_type": "markdown",
   "id": "electoral-invasion",
   "metadata": {},
   "source": [
    "### 17 March 2021"
   ]
  },
  {
   "cell_type": "code",
   "execution_count": 1,
   "id": "final-leone",
   "metadata": {},
   "outputs": [],
   "source": [
    "import sympy as sp"
   ]
  },
  {
   "cell_type": "code",
   "execution_count": 2,
   "id": "silver-packing",
   "metadata": {},
   "outputs": [],
   "source": [
    "N = 600851475143"
   ]
  },
  {
   "cell_type": "code",
   "execution_count": 3,
   "id": "married-assumption",
   "metadata": {},
   "outputs": [],
   "source": [
    "# Function to divide a number to it's prime factors and\n",
    "# return them as an array\n",
    "def factorization(fact_array, N, last_divisor):\n",
    "    \n",
    "    # If number is 1, finishing the function and returning \n",
    "    # the prime factor array\n",
    "    if (N == 1):\n",
    "        return fact_array\n",
    "    \n",
    "    else :\n",
    "        \n",
    "        # Parsing primes until finding the next prime factor of the number\n",
    "        while (N % last_divisor != 0):\n",
    "            \n",
    "            last_divisor = sp.nextprime(last_divisor)\n",
    "            \n",
    "        # Adding the newly found prime factor to array\n",
    "        fact_array.append(last_divisor)\n",
    "        \n",
    "        # Recursive function to continue finding prime factors\n",
    "        # for remaining number\n",
    "        return factorization(fact_array, (N / last_divisor), last_divisor)   "
   ]
  },
  {
   "cell_type": "code",
   "execution_count": 11,
   "id": "numerous-environment",
   "metadata": {},
   "outputs": [
    {
     "name": "stdout",
     "output_type": "stream",
     "text": [
      "6857\n"
     ]
    }
   ],
   "source": [
    "# Prime factors of N\n",
    "divisor_primes = factorization([], N, 2)\n",
    "\n",
    "# Printing the largest prime factor of N\n",
    "print(divisor_primes[len(divisor_primes) - 1])"
   ]
  }
 ],
 "metadata": {
  "kernelspec": {
   "display_name": "Python 3",
   "language": "python",
   "name": "python3"
  },
  "language_info": {
   "codemirror_mode": {
    "name": "ipython",
    "version": 3
   },
   "file_extension": ".py",
   "mimetype": "text/x-python",
   "name": "python",
   "nbconvert_exporter": "python",
   "pygments_lexer": "ipython3",
   "version": "3.9.1"
  }
 },
 "nbformat": 4,
 "nbformat_minor": 5
}
