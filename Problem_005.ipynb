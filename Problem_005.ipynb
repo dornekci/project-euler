{
 "cells": [
  {
   "cell_type": "markdown",
   "id": "verified-generic",
   "metadata": {},
   "source": [
    "# Problem - 005"
   ]
  },
  {
   "cell_type": "markdown",
   "id": "humanitarian-button",
   "metadata": {},
   "source": [
    "## Doruk Örnekci"
   ]
  },
  {
   "cell_type": "markdown",
   "id": "important-purpose",
   "metadata": {},
   "source": [
    "### 17 March 2021"
   ]
  },
  {
   "cell_type": "code",
   "execution_count": 1,
   "id": "devoted-custody",
   "metadata": {},
   "outputs": [],
   "source": [
    "import numpy as np\n",
    "import sympy as sp"
   ]
  },
  {
   "cell_type": "code",
   "execution_count": 2,
   "id": "vocational-artist",
   "metadata": {},
   "outputs": [],
   "source": [
    "N = 20"
   ]
  },
  {
   "cell_type": "code",
   "execution_count": 3,
   "id": "backed-fancy",
   "metadata": {},
   "outputs": [],
   "source": [
    "# Function to divide a number to it's prime factors and\n",
    "# return them as an array\n",
    "def factorization(fact_array, N, last_divisor):\n",
    "    \n",
    "    # If number is 1, finishing the function and returning \n",
    "    # the prime factor array\n",
    "    if (N == 1):\n",
    "        return fact_array\n",
    "    \n",
    "    else :\n",
    "        \n",
    "        # Parsing primes until finding the next prime factor of the number\n",
    "        while (N % last_divisor != 0):\n",
    "            \n",
    "            last_divisor = sp.nextprime(last_divisor)\n",
    "            \n",
    "        # Adding the newly found prime factor to array\n",
    "        fact_array.append(last_divisor)\n",
    "        \n",
    "        # Recursive function to continue finding prime factors\n",
    "        # for remaining number\n",
    "        return factorization(fact_array, (N / last_divisor), last_divisor)"
   ]
  },
  {
   "cell_type": "code",
   "execution_count": 4,
   "id": "chinese-hearts",
   "metadata": {},
   "outputs": [],
   "source": [
    "# Getting all the divisors from 2 to N + 1 in a list\n",
    "divisor_list = list(range(2, N + 1))\n",
    "\n",
    "# Dividing the divisors to their prime factors\n",
    "factor_list = list(factorization([], num, 2) for num in divisor_list)"
   ]
  },
  {
   "cell_type": "code",
   "execution_count": 5,
   "id": "distinguished-topic",
   "metadata": {},
   "outputs": [],
   "source": [
    "# List of primes until N\n",
    "prime_list = list(sp.sieve.primerange(0, N))\n",
    "\n",
    "# Creating a prime-occurence pair dictionary for writing the\n",
    "# most occurences of the primes\n",
    "prime_dict = {}\n",
    "for i in range(len(prime_list)): \n",
    "    prime_dict[prime_list[i]] = 0"
   ]
  },
  {
   "cell_type": "code",
   "execution_count": 6,
   "id": "precious-baghdad",
   "metadata": {},
   "outputs": [],
   "source": [
    "# For every number's prime factors, we chec whether it contains\n",
    "# the occurence of a prime number more than others\n",
    "for factors in factor_list:\n",
    "    for prime in prime_list:\n",
    "        if factors.count(prime) > prime_dict[prime]:\n",
    "            prime_dict[prime] = factors.count(prime)"
   ]
  },
  {
   "cell_type": "code",
   "execution_count": 7,
   "id": "unnecessary-supervision",
   "metadata": {
    "scrolled": true
   },
   "outputs": [
    {
     "name": "stdout",
     "output_type": "stream",
     "text": [
      "232792560\n"
     ]
    }
   ],
   "source": [
    "# Multiplying all primes with their weights and with each other\n",
    "result = 1\n",
    "for prime in prime_list:\n",
    "    result = result * prime ** prime_dict[prime]\n",
    "\n",
    "# Printing the result\n",
    "print(result)"
   ]
  }
 ],
 "metadata": {
  "kernelspec": {
   "display_name": "Python 3",
   "language": "python",
   "name": "python3"
  },
  "language_info": {
   "codemirror_mode": {
    "name": "ipython",
    "version": 3
   },
   "file_extension": ".py",
   "mimetype": "text/x-python",
   "name": "python",
   "nbconvert_exporter": "python",
   "pygments_lexer": "ipython3",
   "version": "3.9.1"
  }
 },
 "nbformat": 4,
 "nbformat_minor": 5
}
